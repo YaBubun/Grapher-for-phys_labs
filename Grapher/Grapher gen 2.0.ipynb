{
 "cells": [
  {
   "cell_type": "code",
   "execution_count": 1,
   "metadata": {},
   "outputs": [],
   "source": [
    "#Импортируем библиотеки\n",
    "import numpy as np\n",
    "import matplotlib.pyplot as plt\n",
    "import pandas as pd\n",
    "import math"
   ]
  },
  {
   "cell_type": "code",
   "execution_count": 2,
   "metadata": {},
   "outputs": [
    {
     "name": "stdout",
     "output_type": "stream",
     "text": [
      "[[0.01099101 1.65634765 0.01       1.48512067 0.01      ]\n",
      " [0.04274514 1.65427731 0.01       1.49356398 0.01      ]\n",
      " [0.09096094 1.6578397  0.01       1.51563135 0.01      ]\n",
      " [0.15021397 1.65848798 0.01       1.51011646 0.01      ]\n",
      " [0.212523   1.66169378 0.01       1.52564784 0.01      ]\n",
      " [0.27013745 1.66624259 0.01       1.53318025 0.01      ]\n",
      " [0.32220208 1.65547126 0.01       1.54987504 0.01      ]]\n"
     ]
    }
   ],
   "source": [
    "#Читаем файл, один столбец - данные по оси X, остальные - по оси Y и погершности.\n",
    "def make_table(file_name):\n",
    "    array_to_return = pd.read_csv(file_name, sep = \",\")\n",
    "    return array_to_return.values\n",
    "\n",
    "data = make_table(\"C:\\\\\\\\Users\\\\\\\\Home\\\\\\\\data graph.csv\")\n",
    "print(data)"
   ]
  },
  {
   "cell_type": "code",
   "execution_count": 8,
   "metadata": {},
   "outputs": [],
   "source": [
    "#Реализация мнк\n",
    "def find_mnk_param(X, Y):\n",
    "    n = X.shape[0]\n",
    "    aver_x = X.sum() / n\n",
    "    aver_y = Y.sum() / n\n",
    "    aver_xy = np.dot(X, Y) / n\n",
    "    aver_xx = np.dot(X, X) / n\n",
    "    aver_yy = np.dot(Y, Y) / n\n",
    "    a = (aver_xy - aver_x * aver_y) / (aver_xx - aver_x ** 2)\n",
    "    b = aver_y - a * aver_x\n",
    "    er_a = (1 / n * ((aver_yy - aver_y ** 2) / (aver_xx - aver_x ** 2) - a ** 2)) ** 0.5\n",
    "    er_b = er_a * ((aver_xx - aver_x ** 2) ** 0.5)\n",
    "    print('a = ', a, '\\nb = ', b, '\\nerror of a = ', er_a, '\\nerror of b = ', er_b)\n",
    "    print('rel_er_a = ', er_a / abs(a) * 100, \"%\\nrel_er_b = \", er_b / abs(b) *100, '%')\n",
    "    return a, b, er_a, er_b\n",
    "\n",
    "def mnk_line(X, a, b):\n",
    "    return a * X + b\n",
    "\n",
    "def error_mnk(X, er_a, er_b):\n",
    "    return (X ** 2 * er_a ** 2 + er_b ** 2) ** 0.5\n",
    "\n",
    "def draw_mnk_line(X, Y, err_Y, line_label, err_X = 0):\n",
    "    a, b, er_a, er_b = find_mnk_param(X, Y)\n",
    "    errors = error_mnk(X, er_a, er_b) + err_Y\n",
    "    plt.errorbar(X, Y, xerr = err_X, yerr = errors, ls='none')\n",
    "    plt.plot(X, Y, markersize = 5, marker = 'o', linestyle = '')\n",
    "    plt.plot(X, mnk_line(X, a, b), label = line_label)"
   ]
  },
  {
   "cell_type": "code",
   "execution_count": 13,
   "metadata": {},
   "outputs": [],
   "source": [
    "#Реализация хи-квадрат\n",
    "def find_hi_square_param(X, Y, err):\n",
    "    W = (1/(err**2)).sum()\n",
    "    weight_aver_x = np.dot(X, 1/(err**2)) / W\n",
    "    weight_aver_y = np.dot(Y, 1/(err**2)) / W\n",
    "    weight_aver_xy = np.dot(X*Y, 1/(err**2)) / W\n",
    "    weight_aver_xx = np.dot(X*X, 1/(err**2)) / W\n",
    "    weight_aver_yy = np.dot(Y*Y, 1/(err**2)) / W\n",
    "    a = (weight_aver_xy - weight_aver_x*weight_aver_y) / (weight_aver_xx - weight_aver_x*weight_aver_x)\n",
    "    b = weight_aver_y - a*weight_aver_x\n",
    "    hi = ( 1/(err**2)*( Y - ( a*X+b ) )**2 ).sum()\n",
    "    Da = (W*weight_aver_xy - W*b*weight_aver_x)**2 - W*weight_aver_xx*(W*weight_aver_yy - 2*W*b*weight_aver_y + W*b*b - 1 - hi)\n",
    "    a1 = (W*weight_aver_xy - W*b*weight_aver_x + Da**0.5)/(W*weight_aver_xx)\n",
    "    a2 = (W*weight_aver_xy - W*b*weight_aver_x - Da**0.5)/(W*weight_aver_xx)\n",
    "    Db = (W*(weight_aver_y-a*weight_aver_x))**2 - W*(W*weight_aver_yy - 2*W*a*weight_aver_xy +W*a*a*weight_aver_xx-1-hi)\n",
    "    b1 = (W*(weight_aver_y-a*weight_aver_x) + Db**0.5)/W\n",
    "    b2 = (W*(weight_aver_y-weight_aver_x) - Db**0.5)/W\n",
    "    print('a =', a, '\\nb = ', b, '\\nerror of a = ', er_a, '\\nerror of b = ', er_b)\n",
    "    print('hi =',hi)\n",
    "    print('rel_er_a = ', er_a / abs(a) * 100, \"%\\nrel_er_b = \", er_b / abs(b) *100, '%')\n",
    "    \n",
    "def hi_square_line(X, a, b):\n",
    "    return a * X + b\n",
    "\n",
    "def error_hi_square(X, er_a, er_b):\n",
    "    return (X ** 2 * er_a ** 2 + er_b ** 2) ** 0.5\n",
    "\n",
    "def draw_hi_square_line(X, Y, err_Y, line_label, err_X = 0):\n",
    "    a, b, er_a, er_b = find_mnk_param(X, Y)\n",
    "    errors = error_hi_square(X, er_a, er_b) + err_Y\n",
    "    plt.errorbar(X, Y, xerr = err_X, yerr = errors, ls='none')\n",
    "    plt.plot(X, Y, markersize = 5, marker = 'o', linestyle = '')\n",
    "    plt.plot(X, mnk_line(X, a, b), label = line_label)"
   ]
  },
  {
   "cell_type": "code",
   "execution_count": 18,
   "metadata": {},
   "outputs": [
    {
     "name": "stdout",
     "output_type": "stream",
     "text": [
      "a =  0.01700049454550561 \n",
      "b =  1.6559519403084668 \n",
      "error of a =  0.011692379438225202 \n",
      "error of b =  0.001265145222367149\n",
      "rel_er_a =  68.77670180080905 %\n",
      "rel_er_b =  0.0763998755985322 %\n",
      "a =  0.185613432952909 \n",
      "b =  1.487000407559941 \n",
      "error of a =  0.018843868459944648 \n",
      "error of b =  0.0020389545412009577\n",
      "rel_er_a =  10.152211593826523 %\n",
      "rel_er_b =  0.13711862692403246 %\n"
     ]
    },
    {
     "data": {
      "image/png": "[encoded data removed]",
      "text/plain": [
       "<Figure size 864x432 with 1 Axes>"
      ]
     },
     "metadata": {
      "needs_background": "light"
     },
     "output_type": "display_data"
    }
   ],
   "source": [
    "fig, ax = plt.subplots(figsize=(12, 6))\n",
    "\n",
    "draw_hi_square_line(data[:, 0], data[:, 1], data[:, 2], \"test\", 0.01)\n",
    "draw_mnk_line(data[:, 0], data[:, 3], data[:, 4], \"mnk\")\n",
    "\n",
    "Y_name = 'n'\n",
    "X_name = 'cos$^2 \\Theta$'\n",
    "plt.xlabel(X_name, fontsize = 15)\n",
    "plt.ylabel(Y_name, fontsize = 15)\n",
    "plt.grid()\n",
    "plt.legend(fontsize = 15)\n",
    "\n",
    "\n",
    "plt.show()"
   ]
  }
 ],
 "metadata": {
  "kernelspec": {
   "display_name": "Python 3",
   "language": "python",
   "name": "python3"
  },
  "language_info": {
   "codemirror_mode": {
    "name": "ipython",
    "version": 3
   },
   "file_extension": ".py",
   "mimetype": "text/x-python",
   "name": "python",
   "nbconvert_exporter": "python",
   "pygments_lexer": "ipython3",
   "version": "3.8.3"
  }
 },
 "nbformat": 4,
 "nbformat_minor": 4
}
